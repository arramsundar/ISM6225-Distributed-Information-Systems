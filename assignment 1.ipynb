{
 "cells": [
  {
   "cell_type": "code",
   "execution_count": 1,
   "metadata": {},
   "outputs": [
    {
     "name": "stdout",
     "output_type": "stream",
     "text": [
      "provide num4\n",
      "      * \n",
      "     * * \n",
      "    * * * \n",
      "   * * * * \n"
     ]
    }
   ],
   "source": [
    "# Function to demonstrate printing pattern triangle \n",
    "def triangle(n): \n",
    "      \n",
    "    # number of spaces \n",
    "    k = 2*n - 2\n",
    "  \n",
    "    # outer loop to handle number of rows \n",
    "    for i in range(0, n): \n",
    "      \n",
    "        # inner loop to handle number spaces \n",
    "        # values changing acc. to requirement \n",
    "        for j in range(0, k): \n",
    "            print(end=\" \") \n",
    "      \n",
    "        # decrementing k after each loop \n",
    "        k = k - 1\n",
    "      \n",
    "        # inner loop to handle number of columns \n",
    "        # values changing acc. to outer loop \n",
    "        for j in range(0, i+1): \n",
    "          \n",
    "            # printing stars \n",
    "            print(\"* \", end=\"\") \n",
    "      \n",
    "        # ending line after each row \n",
    "        print(\"\\r\") \n",
    "  \n",
    "# Driver Code \n",
    "n1=input(\"provide num\")\n",
    "n=int(n1)\n",
    "triangle(n)\n"
   ]
  },
  {
   "cell_type": "code",
   "execution_count": 2,
   "metadata": {},
   "outputs": [
    {
     "name": "stdout",
     "output_type": "stream",
     "text": [
      "Provide the n value5\n",
      "The odd numbers are : [1, 3, 5, 7, 9]\n",
      "The sum of integers is : 25\n"
     ]
    }
   ],
   "source": [
    "def suma(n):\n",
    "    lis=list()#creating a list to place the numbers inside\n",
    "    sum=0\n",
    "    for i in range(1,2*n,2): # setting the range for the loop\n",
    "        lis.append(i)\n",
    "        sum=sum+int(i)#adding the individual numbers in the loop\n",
    "    print(\"The odd numbers are :\",lis) # printing as required in the assignment\n",
    "    print(\"The sum of integers is :\",sum) # printing as required in the assignment\n",
    "    \n",
    "\n",
    "n1=input(\"Provide the n value\")\n",
    "n=int(n1) #passing values\n",
    "suma(n)\n",
    "\n"
   ]
  },
  {
   "cell_type": "code",
   "execution_count": 3,
   "metadata": {},
   "outputs": [
    {
     "name": "stdout",
     "output_type": "stream",
     "text": [
      "True\n"
     ]
    }
   ],
   "source": [
    " def isMonotonic(A): \n",
    "  \n",
    "    return (all(A[i] <= A[i + 1] for i in range(len(A) - 1)) or\n",
    "            all(A[i] >= A[i + 1] for i in range(len(A) - 1))) \n",
    "  \n",
    "# Driver program \n",
    "A = [1,2,2,6] \n",
    "  \n",
    "# Print required result \n",
    "print(isMonotonic(A))\n"
   ]
  },
  {
   "cell_type": "code",
   "execution_count": 4,
   "metadata": {},
   "outputs": [
    {
     "name": "stdout",
     "output_type": "stream",
     "text": [
      "1\n"
     ]
    }
   ],
   "source": [
    "def count(arr,k): \n",
    "    count = 0\n",
    "    n=len(arr)\n",
    "    # Pick all elements one by one \n",
    "    for i in range(0, n): \n",
    "          \n",
    "        # See if there is a pair of this picked element \n",
    "        for j in range(i+1, n) : \n",
    "              \n",
    "            if arr[i] - arr[j] == k or arr[j] - arr[i] == k: \n",
    "                count=count+ 1\n",
    "    print(count)\n",
    "arr = [1, 3, 1, 5, 4] \n",
    "k = 0\n",
    "count(arr,k)"
   ]
  },
  {
   "cell_type": "code",
   "execution_count": 5,
   "metadata": {},
   "outputs": [
    {
     "data": {
      "text/plain": [
       "79"
      ]
     },
     "execution_count": 5,
     "metadata": {},
     "output_type": "execute_result"
    }
   ],
   "source": [
    "def keyboard(a,b): #takes entry of the keyboard and word\n",
    "    la=list(a) #convert to list\n",
    "    ls=list(b) # convert to list\n",
    "    sum=0\n",
    "    si=0\n",
    "    total=0\n",
    "    for i in ls: #Start taking one character at a time to compare\n",
    "        if i in la: #if the given chracter is in the keyboard\n",
    "            index=la.index(i) #find the index of it\n",
    "            sum=abs(si-index) # subtract the index with the previous index\n",
    "            total=total+sum #add the sum of index\n",
    "            si=index # re assign the si index as the previous character's index\n",
    "    return total # return the total value\n",
    "            \n",
    "        \n",
    "a1=\"hijklmnopqrstuvwxyzabcdefg\"\n",
    "b1=\"gobulls\"\n",
    "keyboard(a1,b1)"
   ]
  },
  {
   "cell_type": "code",
   "execution_count": 6,
   "metadata": {},
   "outputs": [
    {
     "name": "stdout",
     "output_type": "stream",
     "text": [
      "3\n"
     ]
    }
   ],
   "source": [
    "def change(str1, str2, c, d): \n",
    "  \n",
    "    # If first string is empty, insert all characters of second string into first \n",
    "    if c == 0: \n",
    "         return d\n",
    "  \n",
    "    # If second string is empty,remove all characters of first string \n",
    "    if d == 0: \n",
    "        return c \n",
    "  \n",
    "    # If last characters of two strings are same, nothing \n",
    "    # much to do. Ignore last characters and get count for \n",
    "    # remaining strings. \n",
    "    if str1[c-1]== str2[d-1]: \n",
    "        return change(str1, str2, c-1, d-1) \n",
    "  \n",
    "    # If last characters are not same, consider all three \n",
    "    # operations on last character of first string, recursively \n",
    "    # compute minimum cost for all three operations and take \n",
    "    # minimum of three values. \n",
    "    return 1 + min(change(str1, str2, c, d-1),    # Insert \n",
    "                   change(str1, str2, c-1, d),    # Remove \n",
    "                   change(str1, str2, c-1, d-1)    # Replace \n",
    "                   ) \n",
    "  \n",
    "# Driver program to test the above function \n",
    "str1 = \"sunday\"\n",
    "str2 = \"saturday\"\n",
    "print(change(str1, str2, len(str1), len(str2)))\n"
   ]
  }
 ],
 "metadata": {
  "kernelspec": {
   "display_name": "Python 3",
   "language": "python",
   "name": "python3"
  },
  "language_info": {
   "codemirror_mode": {
    "name": "ipython",
    "version": 3
   },
   "file_extension": ".py",
   "mimetype": "text/x-python",
   "name": "python",
   "nbconvert_exporter": "python",
   "pygments_lexer": "ipython3",
   "version": "3.7.3"
  }
 },
 "nbformat": 4,
 "nbformat_minor": 2
}
